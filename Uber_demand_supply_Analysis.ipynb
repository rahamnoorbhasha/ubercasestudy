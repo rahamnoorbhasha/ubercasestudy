{
 "cells": [
  {
   "cell_type": "code",
   "execution_count": 1,
   "metadata": {},
   "outputs": [],
   "source": [
    "import pandas as pd\n",
    "import numpy as np\n",
    "import matplotlib.pyplot as plt\n",
    "from matplotlib import cm"
   ]
  },
  {
   "cell_type": "markdown",
   "metadata": {},
   "source": [
    "### Extracting data for Analysis"
   ]
  },
  {
   "cell_type": "code",
   "execution_count": 2,
   "metadata": {},
   "outputs": [
    {
     "data": {
      "text/html": [
       "<div>\n",
       "<style scoped>\n",
       "    .dataframe tbody tr th:only-of-type {\n",
       "        vertical-align: middle;\n",
       "    }\n",
       "\n",
       "    .dataframe tbody tr th {\n",
       "        vertical-align: top;\n",
       "    }\n",
       "\n",
       "    .dataframe thead th {\n",
       "        text-align: right;\n",
       "    }\n",
       "</style>\n",
       "<table border=\"1\" class=\"dataframe\">\n",
       "  <thead>\n",
       "    <tr style=\"text-align: right;\">\n",
       "      <th></th>\n",
       "      <th>Request id</th>\n",
       "      <th>Pickup point</th>\n",
       "      <th>Driver id</th>\n",
       "      <th>Status</th>\n",
       "      <th>Request timestamp</th>\n",
       "      <th>Drop timestamp</th>\n",
       "    </tr>\n",
       "  </thead>\n",
       "  <tbody>\n",
       "    <tr>\n",
       "      <th>0</th>\n",
       "      <td>619</td>\n",
       "      <td>Airport</td>\n",
       "      <td>1.0</td>\n",
       "      <td>Trip Completed</td>\n",
       "      <td>11/7/2016 11:51</td>\n",
       "      <td>11/7/2016 13:00</td>\n",
       "    </tr>\n",
       "    <tr>\n",
       "      <th>1</th>\n",
       "      <td>867</td>\n",
       "      <td>Airport</td>\n",
       "      <td>1.0</td>\n",
       "      <td>Trip Completed</td>\n",
       "      <td>11/7/2016 17:57</td>\n",
       "      <td>11/7/2016 18:47</td>\n",
       "    </tr>\n",
       "    <tr>\n",
       "      <th>2</th>\n",
       "      <td>1807</td>\n",
       "      <td>City</td>\n",
       "      <td>1.0</td>\n",
       "      <td>Trip Completed</td>\n",
       "      <td>12/7/2016 9:17</td>\n",
       "      <td>12/7/2016 9:58</td>\n",
       "    </tr>\n",
       "    <tr>\n",
       "      <th>3</th>\n",
       "      <td>2532</td>\n",
       "      <td>Airport</td>\n",
       "      <td>1.0</td>\n",
       "      <td>Trip Completed</td>\n",
       "      <td>12/7/2016 21:08</td>\n",
       "      <td>12/7/2016 22:03</td>\n",
       "    </tr>\n",
       "    <tr>\n",
       "      <th>4</th>\n",
       "      <td>3112</td>\n",
       "      <td>City</td>\n",
       "      <td>1.0</td>\n",
       "      <td>Trip Completed</td>\n",
       "      <td>13-07-2016 08:33:16</td>\n",
       "      <td>13-07-2016 09:25:47</td>\n",
       "    </tr>\n",
       "  </tbody>\n",
       "</table>\n",
       "</div>"
      ],
      "text/plain": [
       "   Request id Pickup point  Driver id          Status    Request timestamp  \\\n",
       "0         619      Airport        1.0  Trip Completed      11/7/2016 11:51   \n",
       "1         867      Airport        1.0  Trip Completed      11/7/2016 17:57   \n",
       "2        1807         City        1.0  Trip Completed       12/7/2016 9:17   \n",
       "3        2532      Airport        1.0  Trip Completed      12/7/2016 21:08   \n",
       "4        3112         City        1.0  Trip Completed  13-07-2016 08:33:16   \n",
       "\n",
       "        Drop timestamp  \n",
       "0      11/7/2016 13:00  \n",
       "1      11/7/2016 18:47  \n",
       "2       12/7/2016 9:58  \n",
       "3      12/7/2016 22:03  \n",
       "4  13-07-2016 09:25:47  "
      ]
     },
     "execution_count": 2,
     "metadata": {},
     "output_type": "execute_result"
    }
   ],
   "source": [
    "df = pd.read_csv('Uber Request Data.csv')\n",
    "df.head()"
   ]
  },
  {
   "cell_type": "code",
   "execution_count": 3,
   "metadata": {},
   "outputs": [
    {
     "name": "stdout",
     "output_type": "stream",
     "text": [
      "<class 'pandas.core.frame.DataFrame'>\n",
      "RangeIndex: 6745 entries, 0 to 6744\n",
      "Data columns (total 6 columns):\n",
      "Request id           6745 non-null int64\n",
      "Pickup point         6745 non-null object\n",
      "Driver id            4095 non-null float64\n",
      "Status               6745 non-null object\n",
      "Request timestamp    6745 non-null object\n",
      "Drop timestamp       2831 non-null object\n",
      "dtypes: float64(1), int64(1), object(4)\n",
      "memory usage: 316.2+ KB\n"
     ]
    }
   ],
   "source": [
    "df.info()"
   ]
  },
  {
   "cell_type": "markdown",
   "metadata": {},
   "source": [
    "## Data Cleaning\n",
    "#### Our Analysis mainly depends on 'Pickup point', 'Status', 'Request timestamp'. There are no null values in these columns. So the data is good for our analysis. But there are two columns which have null values. Lets see if these are valid."
   ]
  },
  {
   "cell_type": "code",
   "execution_count": 4,
   "metadata": {},
   "outputs": [
    {
     "name": "stdout",
     "output_type": "stream",
     "text": [
      "['No Cars Available']\n",
      "['Cancelled' 'No Cars Available']\n"
     ]
    }
   ],
   "source": [
    "# Status for the rows where driver id is null\n",
    "print(df.loc[df['Driver id'].isnull()]['Status'].unique())\n",
    "# Status for the rows where drop time is null\n",
    "print(df.loc[df['Drop timestamp'].isnull()]['Status'].unique())"
   ]
  },
  {
   "cell_type": "markdown",
   "metadata": {},
   "source": [
    "#### From above it clear that driver id is null only when status is 'No cars Available' -> which is true and is expected.Drop time stamp' is null only for the trips 'cancelled' or 'No cars Available' -> Which is true and is expected.\n",
    "###  From above, the data given is awesome and it does not have any missing data. The Null values in the data are valid, but datatype of Driver id should be integer instead of float. Similarly changing time columns to datatime format helps in doing time series analysis easily."
   ]
  },
  {
   "cell_type": "code",
   "execution_count": 5,
   "metadata": {},
   "outputs": [],
   "source": [
    "df['Request timestamp'] = pd.to_datetime(df['Request timestamp'],dayfirst=True)\n",
    "df['Drop timestamp'] = pd.to_datetime(df['Drop timestamp'],dayfirst=True)\n",
    "df['Driver id'].fillna(0,inplace=True)\n",
    "df['Driver id'] = df['Driver id'].apply(lambda x: int(x))"
   ]
  },
  {
   "cell_type": "code",
   "execution_count": 6,
   "metadata": {},
   "outputs": [
    {
     "data": {
      "text/html": [
       "<div>\n",
       "<style scoped>\n",
       "    .dataframe tbody tr th:only-of-type {\n",
       "        vertical-align: middle;\n",
       "    }\n",
       "\n",
       "    .dataframe tbody tr th {\n",
       "        vertical-align: top;\n",
       "    }\n",
       "\n",
       "    .dataframe thead th {\n",
       "        text-align: right;\n",
       "    }\n",
       "</style>\n",
       "<table border=\"1\" class=\"dataframe\">\n",
       "  <thead>\n",
       "    <tr style=\"text-align: right;\">\n",
       "      <th></th>\n",
       "      <th>Request id</th>\n",
       "      <th>Pickup point</th>\n",
       "      <th>Driver id</th>\n",
       "      <th>Status</th>\n",
       "      <th>Request timestamp</th>\n",
       "      <th>Drop timestamp</th>\n",
       "    </tr>\n",
       "  </thead>\n",
       "  <tbody>\n",
       "    <tr>\n",
       "      <th>0</th>\n",
       "      <td>619</td>\n",
       "      <td>Airport</td>\n",
       "      <td>1</td>\n",
       "      <td>Trip Completed</td>\n",
       "      <td>2016-07-11 11:51:00</td>\n",
       "      <td>2016-07-11 13:00:00</td>\n",
       "    </tr>\n",
       "    <tr>\n",
       "      <th>1</th>\n",
       "      <td>867</td>\n",
       "      <td>Airport</td>\n",
       "      <td>1</td>\n",
       "      <td>Trip Completed</td>\n",
       "      <td>2016-07-11 17:57:00</td>\n",
       "      <td>2016-07-11 18:47:00</td>\n",
       "    </tr>\n",
       "    <tr>\n",
       "      <th>2</th>\n",
       "      <td>1807</td>\n",
       "      <td>City</td>\n",
       "      <td>1</td>\n",
       "      <td>Trip Completed</td>\n",
       "      <td>2016-07-12 09:17:00</td>\n",
       "      <td>2016-07-12 09:58:00</td>\n",
       "    </tr>\n",
       "    <tr>\n",
       "      <th>3</th>\n",
       "      <td>2532</td>\n",
       "      <td>Airport</td>\n",
       "      <td>1</td>\n",
       "      <td>Trip Completed</td>\n",
       "      <td>2016-07-12 21:08:00</td>\n",
       "      <td>2016-07-12 22:03:00</td>\n",
       "    </tr>\n",
       "    <tr>\n",
       "      <th>4</th>\n",
       "      <td>3112</td>\n",
       "      <td>City</td>\n",
       "      <td>1</td>\n",
       "      <td>Trip Completed</td>\n",
       "      <td>2016-07-13 08:33:16</td>\n",
       "      <td>2016-07-13 09:25:47</td>\n",
       "    </tr>\n",
       "  </tbody>\n",
       "</table>\n",
       "</div>"
      ],
      "text/plain": [
       "   Request id Pickup point  Driver id          Status   Request timestamp  \\\n",
       "0         619      Airport          1  Trip Completed 2016-07-11 11:51:00   \n",
       "1         867      Airport          1  Trip Completed 2016-07-11 17:57:00   \n",
       "2        1807         City          1  Trip Completed 2016-07-12 09:17:00   \n",
       "3        2532      Airport          1  Trip Completed 2016-07-12 21:08:00   \n",
       "4        3112         City          1  Trip Completed 2016-07-13 08:33:16   \n",
       "\n",
       "       Drop timestamp  \n",
       "0 2016-07-11 13:00:00  \n",
       "1 2016-07-11 18:47:00  \n",
       "2 2016-07-12 09:58:00  \n",
       "3 2016-07-12 22:03:00  \n",
       "4 2016-07-13 09:25:47  "
      ]
     },
     "execution_count": 6,
     "metadata": {},
     "output_type": "execute_result"
    }
   ],
   "source": [
    "df.head()"
   ]
  },
  {
   "cell_type": "markdown",
   "metadata": {},
   "source": [
    "#### Lets check where the demand for cabs is more in 'City' or 'Airport' ?"
   ]
  },
  {
   "cell_type": "code",
   "execution_count": 7,
   "metadata": {},
   "outputs": [
    {
     "data": {
      "text/plain": [
       "City       3507\n",
       "Airport    3238\n",
       "Name: Pickup point, dtype: int64"
      ]
     },
     "execution_count": 7,
     "metadata": {},
     "output_type": "execute_result"
    }
   ],
   "source": [
    "df['Pickup point'].value_counts()"
   ]
  },
  {
   "cell_type": "markdown",
   "metadata": {},
   "source": [
    "#### Requests from city is 3507, Request from Airport is 3238. Demand is almost same in both Airport and City."
   ]
  },
  {
   "cell_type": "markdown",
   "metadata": {},
   "source": [
    "# Data Analysis\n",
    "# How Demand is varying with the day of week and time of the day?"
   ]
  },
  {
   "cell_type": "code",
   "execution_count": 8,
   "metadata": {},
   "outputs": [
    {
     "data": {
      "text/html": [
       "<div>\n",
       "<style scoped>\n",
       "    .dataframe tbody tr th:only-of-type {\n",
       "        vertical-align: middle;\n",
       "    }\n",
       "\n",
       "    .dataframe tbody tr th {\n",
       "        vertical-align: top;\n",
       "    }\n",
       "\n",
       "    .dataframe thead th {\n",
       "        text-align: right;\n",
       "    }\n",
       "</style>\n",
       "<table border=\"1\" class=\"dataframe\">\n",
       "  <thead>\n",
       "    <tr style=\"text-align: right;\">\n",
       "      <th></th>\n",
       "      <th>Request id</th>\n",
       "      <th>Pickup point</th>\n",
       "      <th>Driver id</th>\n",
       "      <th>Status</th>\n",
       "      <th>Request timestamp</th>\n",
       "      <th>Drop timestamp</th>\n",
       "      <th>Request time</th>\n",
       "      <th>Request date</th>\n",
       "      <th>Request day</th>\n",
       "      <th>Request hour</th>\n",
       "    </tr>\n",
       "  </thead>\n",
       "  <tbody>\n",
       "    <tr>\n",
       "      <th>0</th>\n",
       "      <td>619</td>\n",
       "      <td>Airport</td>\n",
       "      <td>1</td>\n",
       "      <td>Trip Completed</td>\n",
       "      <td>2016-07-11 11:51:00</td>\n",
       "      <td>2016-07-11 13:00:00</td>\n",
       "      <td>11:51:00</td>\n",
       "      <td>2016-07-11</td>\n",
       "      <td>Monday</td>\n",
       "      <td>11</td>\n",
       "    </tr>\n",
       "    <tr>\n",
       "      <th>1</th>\n",
       "      <td>867</td>\n",
       "      <td>Airport</td>\n",
       "      <td>1</td>\n",
       "      <td>Trip Completed</td>\n",
       "      <td>2016-07-11 17:57:00</td>\n",
       "      <td>2016-07-11 18:47:00</td>\n",
       "      <td>17:57:00</td>\n",
       "      <td>2016-07-11</td>\n",
       "      <td>Monday</td>\n",
       "      <td>17</td>\n",
       "    </tr>\n",
       "    <tr>\n",
       "      <th>2</th>\n",
       "      <td>1807</td>\n",
       "      <td>City</td>\n",
       "      <td>1</td>\n",
       "      <td>Trip Completed</td>\n",
       "      <td>2016-07-12 09:17:00</td>\n",
       "      <td>2016-07-12 09:58:00</td>\n",
       "      <td>09:17:00</td>\n",
       "      <td>2016-07-12</td>\n",
       "      <td>Tuesday</td>\n",
       "      <td>9</td>\n",
       "    </tr>\n",
       "    <tr>\n",
       "      <th>3</th>\n",
       "      <td>2532</td>\n",
       "      <td>Airport</td>\n",
       "      <td>1</td>\n",
       "      <td>Trip Completed</td>\n",
       "      <td>2016-07-12 21:08:00</td>\n",
       "      <td>2016-07-12 22:03:00</td>\n",
       "      <td>21:08:00</td>\n",
       "      <td>2016-07-12</td>\n",
       "      <td>Tuesday</td>\n",
       "      <td>21</td>\n",
       "    </tr>\n",
       "    <tr>\n",
       "      <th>4</th>\n",
       "      <td>3112</td>\n",
       "      <td>City</td>\n",
       "      <td>1</td>\n",
       "      <td>Trip Completed</td>\n",
       "      <td>2016-07-13 08:33:16</td>\n",
       "      <td>2016-07-13 09:25:47</td>\n",
       "      <td>08:33:16</td>\n",
       "      <td>2016-07-13</td>\n",
       "      <td>Wednesday</td>\n",
       "      <td>8</td>\n",
       "    </tr>\n",
       "  </tbody>\n",
       "</table>\n",
       "</div>"
      ],
      "text/plain": [
       "   Request id Pickup point  Driver id          Status   Request timestamp  \\\n",
       "0         619      Airport          1  Trip Completed 2016-07-11 11:51:00   \n",
       "1         867      Airport          1  Trip Completed 2016-07-11 17:57:00   \n",
       "2        1807         City          1  Trip Completed 2016-07-12 09:17:00   \n",
       "3        2532      Airport          1  Trip Completed 2016-07-12 21:08:00   \n",
       "4        3112         City          1  Trip Completed 2016-07-13 08:33:16   \n",
       "\n",
       "       Drop timestamp Request time Request date Request day  Request hour  \n",
       "0 2016-07-11 13:00:00     11:51:00   2016-07-11      Monday            11  \n",
       "1 2016-07-11 18:47:00     17:57:00   2016-07-11      Monday            17  \n",
       "2 2016-07-12 09:58:00     09:17:00   2016-07-12     Tuesday             9  \n",
       "3 2016-07-12 22:03:00     21:08:00   2016-07-12     Tuesday            21  \n",
       "4 2016-07-13 09:25:47     08:33:16   2016-07-13   Wednesday             8  "
      ]
     },
     "execution_count": 8,
     "metadata": {},
     "output_type": "execute_result"
    }
   ],
   "source": [
    "# Lets get date, time, day, and hour at which request received from datestamp column\n",
    "df['Request time'] = df['Request timestamp'].dt.time\n",
    "df['Request date'] = df['Request timestamp'].dt.date\n",
    "df['Request day'] = df['Request timestamp'].dt.weekday_name\n",
    "df['Request hour']= df['Request timestamp'].dt.hour\n",
    "df.head()"
   ]
  },
  {
   "cell_type": "code",
   "execution_count": 9,
   "metadata": {},
   "outputs": [
    {
     "name": "stdout",
     "output_type": "stream",
     "text": [
      "[datetime.date(2016, 7, 11) datetime.date(2016, 7, 12)\n",
      " datetime.date(2016, 7, 13) datetime.date(2016, 7, 14)\n",
      " datetime.date(2016, 7, 15)]\n",
      "['Monday' 'Tuesday' 'Wednesday' 'Thursday' 'Friday']\n"
     ]
    },
    {
     "data": {
      "image/png": "[encoded data removed]",
      "text/plain": [
       "<Figure size 432x288 with 1 Axes>"
      ]
     },
     "metadata": {},
     "output_type": "display_data"
    }
   ],
   "source": [
    "print(df['Request date'].unique())\n",
    "print(df['Request day'].unique())\n",
    "df.groupby('Request day')['Request id'].count().plot(kind='bar',title='Frequency of requests on different days');"
   ]
  },
  {
   "cell_type": "markdown",
   "metadata": {},
   "source": [
    "#### Data is given only for five days and the demand is almost same on all days"
   ]
  },
  {
   "cell_type": "code",
   "execution_count": 10,
   "metadata": {},
   "outputs": [
    {
     "data": {
      "image/png": "[encoded data removed]",
      "text/plain": [
       "<Figure size 432x288 with 1 Axes>"
      ]
     },
     "metadata": {},
     "output_type": "display_data"
    }
   ],
   "source": [
    "df.groupby('Request hour')['Request id'].count().plot(kind='bar',title='Frequency of requests recevied on houlry basis');"
   ]
  },
  {
   "cell_type": "code",
   "execution_count": 11,
   "metadata": {},
   "outputs": [
    {
     "data": {
      "image/png": "[encoded data removed]",
      "text/plain": [
       "<Figure size 432x288 with 1 Axes>"
      ]
     },
     "metadata": {},
     "output_type": "display_data"
    }
   ],
   "source": [
    "df[df['Pickup point'] == 'Airport'].groupby('Request hour')['Request id'].count().plot(kind='bar',title=\"Frequency of requests recevied on houlry basis - in Airport\");"
   ]
  },
  {
   "cell_type": "code",
   "execution_count": 12,
   "metadata": {},
   "outputs": [
    {
     "data": {
      "image/png": "[encoded data removed]",
      "text/plain": [
       "<Figure size 432x288 with 1 Axes>"
      ]
     },
     "metadata": {},
     "output_type": "display_data"
    }
   ],
   "source": [
    "df[df['Pickup point'] == 'City'].groupby('Request hour')['Request id'].count().plot(kind='bar',title=\"Frequency of requests recevied on houlry basis - in City\");"
   ]
  },
  {
   "cell_type": "markdown",
   "metadata": {},
   "source": [
    "#### Demand for cabs is more in the early morning time(5am - 10am) and in the evening(5pm - 10pm).  In Airport demand is more in the evening (5pm - 10pm). In City demand is more in morning(5am - 10am). This indicates there are more incoming flights to airport in the evening and there are more outgoing flights in the morning."
   ]
  },
  {
   "cell_type": "markdown",
   "metadata": {},
   "source": [
    "# How many trips got completed/cancelled/ended with cars unavailability?"
   ]
  },
  {
   "cell_type": "code",
   "execution_count": 13,
   "metadata": {},
   "outputs": [
    {
     "name": "stdout",
     "output_type": "stream",
     "text": [
      "Trips completed     : 2831\n",
      "No Cars Available   : 2650\n",
      "Cancelled by driver : 1264\n",
      "Percentage of Trips completed succesfully : 41.971830985915496\n",
      "Percentage of cars unavailability         : 39.288361749444036\n"
     ]
    },
    {
     "data": {
      "image/png": "[encoded data removed]",
      "text/plain": [
       "<Figure size 432x288 with 1 Axes>"
      ]
     },
     "metadata": {},
     "output_type": "display_data"
    }
   ],
   "source": [
    "df['Status'].value_counts().plot(kind='bar', title= 'Frequency of requests that got cancelled or completed')\n",
    "\n",
    "Trips_Completed = df[df['Status'] == 'Trip Completed'].count()[1]\n",
    "No_Cars = df[df['Status'] == 'No Cars Available'].count()[1]\n",
    "Cancelled = df[df['Status'] == 'Cancelled'].count()[1]\n",
    "\n",
    "per_trips_completed = (Trips_Completed/(Trips_Completed+No_Cars + Cancelled)) * 100\n",
    "per_no_cars = (No_Cars/(Trips_Completed+No_Cars + Cancelled)) * 100\n",
    "\n",
    "print('Trips completed     : ' + str(Trips_Completed))\n",
    "print('No Cars Available   : ' + str(No_Cars))\n",
    "print('Cancelled by driver : ' + str(Cancelled))\n",
    "print('Percentage of Trips completed succesfully : ' + str(per_trips_completed))\n",
    "print('Percentage of cars unavailability         : ' + str(per_no_cars))"
   ]
  },
  {
   "cell_type": "markdown",
   "metadata": {},
   "source": [
    "#### Percentage of trips completed is only 42 percent of requests received. UBER is facing problems with 'No cars availability' as 40 percent of requests ended with 'No cars Available'. 18 percent of requests were cancelled by drivers.\n",
    "#### Uber is not able to meet the demand due to 'No cars Avalibility' and 'Driver Cancellation'."
   ]
  },
  {
   "cell_type": "markdown",
   "metadata": {},
   "source": [
    "# Is the problem of 'Driver cancellation' and 'No cars Availablility' is same in Airport and City?"
   ]
  },
  {
   "cell_type": "code",
   "execution_count": 14,
   "metadata": {},
   "outputs": [
    {
     "name": "stdout",
     "output_type": "stream",
     "text": [
      "Pickup point       Airport  City\n",
      "Status                          \n",
      "Cancelled              198  1066\n",
      "No Cars Available     1713   937\n",
      "Trip Completed        1327  1504\n",
      " \n",
      "Percentage of requests completed from Airport : 40.98208770846201\n",
      "Percentage of requests completed from City    : 42.88565725691475\n"
     ]
    },
    {
     "data": {
      "image/png": "[encoded data removed]",
      "text/plain": [
       "<Figure size 432x288 with 1 Axes>"
      ]
     },
     "metadata": {},
     "output_type": "display_data"
    }
   ],
   "source": [
    "# Trips from Airport\n",
    "Trips_Completed_air = df[(df['Status'] == 'Trip Completed') & (df['Pickup point'] == 'Airport')].count()[1]\n",
    "No_Cars_air = df[(df['Status'] == 'No Cars Available') & (df['Pickup point'] == 'Airport')].count()[1]\n",
    "Cancelled_air = df[(df['Status'] == 'Cancelled') & (df['Pickup point'] == 'Airport')].count()[1]\n",
    "\n",
    "per_trips_completed_air = (Trips_Completed_air/(Trips_Completed_air+No_Cars_air + Cancelled_air)) * 100\n",
    "\n",
    "# Trips from city\n",
    "Trips_Completed_city = df[(df['Status'] == 'Trip Completed') & (df['Pickup point'] == 'City')].count()[1]\n",
    "No_Cars_city = df[(df['Status'] == 'No Cars Available') & (df['Pickup point'] == 'City')].count()[1]\n",
    "Cancelled_city = df[(df['Status'] == 'Cancelled') & (df['Pickup point'] == 'City')].count()[1]\n",
    "\n",
    "per_trips_completed_city = (Trips_Completed_city/(Trips_Completed_city+No_Cars_city + Cancelled_city)) * 100\n",
    "\n",
    "print(df.groupby(['Status','Pickup point'])['Status'].count().unstack('Pickup point'))\n",
    "print(' ')\n",
    "print('Percentage of requests completed from Airport : ' + str(per_trips_completed_air))\n",
    "print('Percentage of requests completed from City    : ' + str(per_trips_completed_city))\n",
    "df.groupby(['Status','Pickup point'])['Status'].count().unstack('Pickup point').plot(kind='bar', stacked=True, title=\"Frequency of requests that got cancelled or completed(Airport vs City)\");"
   ]
  },
  {
   "cell_type": "markdown",
   "metadata": {},
   "source": [
    "#### Percentage of trips completed is almost same from city and airport. The problem is there in both Airport and in city. But the reason for not meeting demand is not same in Airport and city. In city most of the requests are cancelled by drivers and in Airport the requests cancelled by drivers are minumum. In airport 'No car availability' is more than in city.\n",
    "#### The Above graph shows 'No Cars Available' is more frequent in Airport. Most of the drivers dont want to go to airport and are not accepting the drive to airport from city. This may be the reason for showing 'No Cars Available' in airport.\n",
    "## Lets check the demand vs supply across different time slots"
   ]
  },
  {
   "cell_type": "code",
   "execution_count": 15,
   "metadata": {},
   "outputs": [
    {
     "data": {
      "text/html": [
       "<div>\n",
       "<style scoped>\n",
       "    .dataframe tbody tr th:only-of-type {\n",
       "        vertical-align: middle;\n",
       "    }\n",
       "\n",
       "    .dataframe tbody tr th {\n",
       "        vertical-align: top;\n",
       "    }\n",
       "\n",
       "    .dataframe thead th {\n",
       "        text-align: right;\n",
       "    }\n",
       "</style>\n",
       "<table border=\"1\" class=\"dataframe\">\n",
       "  <thead>\n",
       "    <tr style=\"text-align: right;\">\n",
       "      <th></th>\n",
       "      <th>Pickup point</th>\n",
       "      <th>Status</th>\n",
       "      <th>Request time</th>\n",
       "      <th>Request hour</th>\n",
       "    </tr>\n",
       "  </thead>\n",
       "  <tbody>\n",
       "    <tr>\n",
       "      <th>0</th>\n",
       "      <td>Airport</td>\n",
       "      <td>Trip Completed</td>\n",
       "      <td>11:51:00</td>\n",
       "      <td>11</td>\n",
       "    </tr>\n",
       "    <tr>\n",
       "      <th>1</th>\n",
       "      <td>Airport</td>\n",
       "      <td>Trip Completed</td>\n",
       "      <td>17:57:00</td>\n",
       "      <td>17</td>\n",
       "    </tr>\n",
       "    <tr>\n",
       "      <th>2</th>\n",
       "      <td>City</td>\n",
       "      <td>Trip Completed</td>\n",
       "      <td>09:17:00</td>\n",
       "      <td>9</td>\n",
       "    </tr>\n",
       "    <tr>\n",
       "      <th>3</th>\n",
       "      <td>Airport</td>\n",
       "      <td>Trip Completed</td>\n",
       "      <td>21:08:00</td>\n",
       "      <td>21</td>\n",
       "    </tr>\n",
       "    <tr>\n",
       "      <th>4</th>\n",
       "      <td>City</td>\n",
       "      <td>Trip Completed</td>\n",
       "      <td>08:33:16</td>\n",
       "      <td>8</td>\n",
       "    </tr>\n",
       "  </tbody>\n",
       "</table>\n",
       "</div>"
      ],
      "text/plain": [
       "  Pickup point          Status Request time  Request hour\n",
       "0      Airport  Trip Completed     11:51:00            11\n",
       "1      Airport  Trip Completed     17:57:00            17\n",
       "2         City  Trip Completed     09:17:00             9\n",
       "3      Airport  Trip Completed     21:08:00            21\n",
       "4         City  Trip Completed     08:33:16             8"
      ]
     },
     "execution_count": 15,
     "metadata": {},
     "output_type": "execute_result"
    }
   ],
   "source": [
    "# creating new dataframe for doing demand vs supply analysis with required fields only\n",
    "df_time = df[['Pickup point','Status','Request time','Request hour']]\n",
    "df_time.head()"
   ]
  },
  {
   "cell_type": "code",
   "execution_count": 16,
   "metadata": {},
   "outputs": [
    {
     "data": {
      "image/png": "[encoded data removed]",
      "text/plain": [
       "<Figure size 432x288 with 1 Axes>"
      ]
     },
     "metadata": {},
     "output_type": "display_data"
    }
   ],
   "source": [
    "ax=df_time.groupby(['Status','Request hour']).size().unstack('Status').plot(kind='bar',stacked=True, title='Frequency of requests on hourly')\n",
    "ax.legend(title='Status',loc='lower left',bbox_to_anchor=(1.0, 0.69));"
   ]
  },
  {
   "cell_type": "markdown",
   "metadata": {},
   "source": [
    "#### In the morning time 5am to 10am drivers are cancelling the requests and 'No car availablility' is not very much when compared to 'Cancelled' during this period. We have already seen that cancellation problem is more in city. From this trend we can say that most of the drivers dont want to go to Airport early in the morning.\n",
    "#### In the afternoon 5pm to 10pm, 'No car Availability' is higher and 'Driver Cancellation' is minimum.We have already seen that the demand for the ride to Airport in minimum in afternoon and no cars are going to airport in that time. So there are no cars available in evening time at the airport.\n",
    "\n",
    "## Lets check the above trend seperatley in Airport and in City to confirm our analysis is true"
   ]
  },
  {
   "cell_type": "code",
   "execution_count": 17,
   "metadata": {},
   "outputs": [
    {
     "data": {
      "text/plain": [
       "52.413752502060596"
      ]
     },
     "execution_count": 17,
     "metadata": {},
     "output_type": "execute_result"
    }
   ],
   "source": [
    "df['journey_time'] = (df['Drop timestamp'] - df['Request timestamp']).dt.total_seconds()/60\n",
    "df['journey_time'].mean()"
   ]
  },
  {
   "cell_type": "code",
   "execution_count": 18,
   "metadata": {},
   "outputs": [
    {
     "data": {
      "image/png": "[encoded data removed]",
      "text/plain": [
       "<Figure size 864x504 with 1 Axes>"
      ]
     },
     "metadata": {},
     "output_type": "display_data"
    }
   ],
   "source": [
    "df_time.groupby(['Pickup point','Status','Request hour']).size().unstack(['Pickup point','Status'])['Airport'].rename_axis([None],axis=1).plot(kind='bar',figsize=(12,7),title=\"Frequency of requests completed/Cancelled - Airport\");"
   ]
  },
  {
   "cell_type": "code",
   "execution_count": 19,
   "metadata": {},
   "outputs": [
    {
     "data": {
      "image/png": "[encoded data removed]",
      "text/plain": [
       "<Figure size 864x504 with 1 Axes>"
      ]
     },
     "metadata": {},
     "output_type": "display_data"
    }
   ],
   "source": [
    "df_time.groupby(['Pickup point','Status','Request hour']).size().unstack(['Pickup point','Status'])['City'].rename_axis([None],axis=1).plot(kind='bar',figsize=(12,7),title=\"Frequency of requests completed/Cancelled - City\");"
   ]
  },
  {
   "cell_type": "markdown",
   "metadata": {},
   "source": [
    "#### In Airport the trend clearly says there is huge difference in demand and supply from 5pm to 10pm. 'No cars are avalaible' at this time. (The average time taken to reach airport is 50mins).There are no requests to airport from city before this period(after noon) which may be the reason for cars unavailbility. This tells that there are more incoming flights to airport in that period and minimum number of outgoing flights.\n",
    "\n",
    "#### This is also the reason for drivers to cancel requests to airport in the morning as there are no incoming flights in the afternoon which is difficult for cabs drivers to get return trip.\n",
    "\n",
    "#### The 'Non availablity of cars' in the city is also more in the morning 5am to 10am is almost equal to rides completed. The drivers should be encoraged to start their trips early in the morning to meet some demand.\n",
    "\n",
    "\n",
    "## Analysing the above trend with demand and supply values\n",
    "\n",
    "##### Demand - Total number of requests received, Supply - Total number of trips completed"
   ]
  },
  {
   "cell_type": "code",
   "execution_count": 20,
   "metadata": {},
   "outputs": [],
   "source": [
    "# Creating new dataframe with demand and supply values\n",
    "df_demand_supply = df_time.groupby(['Status','Request hour']).size().unstack('Status').rename_axis([None],axis=1).reset_index()\n",
    "df_demand_supply['demand'] = df_demand_supply['Cancelled'] + df_demand_supply['No Cars Available'] + df_demand_supply['Trip Completed']\n",
    "df_demand_supply['demand supply gap'] = df_demand_supply['demand'] - df_demand_supply['Trip Completed'] \n",
    "df_demand_supply['demand supply gap%'] = round((df_demand_supply['demand supply gap']/df_demand_supply['demand']) * 100)"
   ]
  },
  {
   "cell_type": "code",
   "execution_count": 21,
   "metadata": {},
   "outputs": [
    {
     "data": {
      "text/html": [
       "<div>\n",
       "<style scoped>\n",
       "    .dataframe tbody tr th:only-of-type {\n",
       "        vertical-align: middle;\n",
       "    }\n",
       "\n",
       "    .dataframe tbody tr th {\n",
       "        vertical-align: top;\n",
       "    }\n",
       "\n",
       "    .dataframe thead th {\n",
       "        text-align: right;\n",
       "    }\n",
       "</style>\n",
       "<table border=\"1\" class=\"dataframe\">\n",
       "  <thead>\n",
       "    <tr style=\"text-align: right;\">\n",
       "      <th></th>\n",
       "      <th>Request hour</th>\n",
       "      <th>Cancelled</th>\n",
       "      <th>No Cars Available</th>\n",
       "      <th>Trip Completed</th>\n",
       "      <th>demand</th>\n",
       "      <th>demand supply gap</th>\n",
       "      <th>demand supply gap%</th>\n",
       "    </tr>\n",
       "  </thead>\n",
       "  <tbody>\n",
       "    <tr>\n",
       "      <th>11</th>\n",
       "      <td>11</td>\n",
       "      <td>15</td>\n",
       "      <td>41</td>\n",
       "      <td>115</td>\n",
       "      <td>171</td>\n",
       "      <td>56</td>\n",
       "      <td>33.0</td>\n",
       "    </tr>\n",
       "    <tr>\n",
       "      <th>12</th>\n",
       "      <td>12</td>\n",
       "      <td>19</td>\n",
       "      <td>44</td>\n",
       "      <td>121</td>\n",
       "      <td>184</td>\n",
       "      <td>63</td>\n",
       "      <td>34.0</td>\n",
       "    </tr>\n",
       "    <tr>\n",
       "      <th>14</th>\n",
       "      <td>14</td>\n",
       "      <td>11</td>\n",
       "      <td>37</td>\n",
       "      <td>88</td>\n",
       "      <td>136</td>\n",
       "      <td>48</td>\n",
       "      <td>35.0</td>\n",
       "    </tr>\n",
       "    <tr>\n",
       "      <th>15</th>\n",
       "      <td>15</td>\n",
       "      <td>21</td>\n",
       "      <td>48</td>\n",
       "      <td>102</td>\n",
       "      <td>171</td>\n",
       "      <td>69</td>\n",
       "      <td>40.0</td>\n",
       "    </tr>\n",
       "    <tr>\n",
       "      <th>16</th>\n",
       "      <td>16</td>\n",
       "      <td>22</td>\n",
       "      <td>46</td>\n",
       "      <td>91</td>\n",
       "      <td>159</td>\n",
       "      <td>68</td>\n",
       "      <td>43.0</td>\n",
       "    </tr>\n",
       "    <tr>\n",
       "      <th>13</th>\n",
       "      <td>13</td>\n",
       "      <td>18</td>\n",
       "      <td>53</td>\n",
       "      <td>89</td>\n",
       "      <td>160</td>\n",
       "      <td>71</td>\n",
       "      <td>44.0</td>\n",
       "    </tr>\n",
       "    <tr>\n",
       "      <th>23</th>\n",
       "      <td>23</td>\n",
       "      <td>10</td>\n",
       "      <td>81</td>\n",
       "      <td>103</td>\n",
       "      <td>194</td>\n",
       "      <td>91</td>\n",
       "      <td>47.0</td>\n",
       "    </tr>\n",
       "    <tr>\n",
       "      <th>22</th>\n",
       "      <td>22</td>\n",
       "      <td>12</td>\n",
       "      <td>138</td>\n",
       "      <td>154</td>\n",
       "      <td>304</td>\n",
       "      <td>150</td>\n",
       "      <td>49.0</td>\n",
       "    </tr>\n",
       "    <tr>\n",
       "      <th>10</th>\n",
       "      <td>10</td>\n",
       "      <td>62</td>\n",
       "      <td>65</td>\n",
       "      <td>116</td>\n",
       "      <td>243</td>\n",
       "      <td>127</td>\n",
       "      <td>52.0</td>\n",
       "    </tr>\n",
       "    <tr>\n",
       "      <th>7</th>\n",
       "      <td>7</td>\n",
       "      <td>169</td>\n",
       "      <td>63</td>\n",
       "      <td>174</td>\n",
       "      <td>406</td>\n",
       "      <td>232</td>\n",
       "      <td>57.0</td>\n",
       "    </tr>\n",
       "    <tr>\n",
       "      <th>6</th>\n",
       "      <td>6</td>\n",
       "      <td>145</td>\n",
       "      <td>86</td>\n",
       "      <td>167</td>\n",
       "      <td>398</td>\n",
       "      <td>231</td>\n",
       "      <td>58.0</td>\n",
       "    </tr>\n",
       "    <tr>\n",
       "      <th>5</th>\n",
       "      <td>5</td>\n",
       "      <td>176</td>\n",
       "      <td>84</td>\n",
       "      <td>185</td>\n",
       "      <td>445</td>\n",
       "      <td>260</td>\n",
       "      <td>58.0</td>\n",
       "    </tr>\n",
       "    <tr>\n",
       "      <th>0</th>\n",
       "      <td>0</td>\n",
       "      <td>3</td>\n",
       "      <td>56</td>\n",
       "      <td>40</td>\n",
       "      <td>99</td>\n",
       "      <td>59</td>\n",
       "      <td>60.0</td>\n",
       "    </tr>\n",
       "    <tr>\n",
       "      <th>9</th>\n",
       "      <td>9</td>\n",
       "      <td>175</td>\n",
       "      <td>83</td>\n",
       "      <td>173</td>\n",
       "      <td>431</td>\n",
       "      <td>258</td>\n",
       "      <td>60.0</td>\n",
       "    </tr>\n",
       "    <tr>\n",
       "      <th>4</th>\n",
       "      <td>4</td>\n",
       "      <td>51</td>\n",
       "      <td>74</td>\n",
       "      <td>78</td>\n",
       "      <td>203</td>\n",
       "      <td>125</td>\n",
       "      <td>62.0</td>\n",
       "    </tr>\n",
       "    <tr>\n",
       "      <th>3</th>\n",
       "      <td>3</td>\n",
       "      <td>2</td>\n",
       "      <td>56</td>\n",
       "      <td>34</td>\n",
       "      <td>92</td>\n",
       "      <td>58</td>\n",
       "      <td>63.0</td>\n",
       "    </tr>\n",
       "    <tr>\n",
       "      <th>8</th>\n",
       "      <td>8</td>\n",
       "      <td>178</td>\n",
       "      <td>90</td>\n",
       "      <td>155</td>\n",
       "      <td>423</td>\n",
       "      <td>268</td>\n",
       "      <td>63.0</td>\n",
       "    </tr>\n",
       "    <tr>\n",
       "      <th>2</th>\n",
       "      <td>2</td>\n",
       "      <td>5</td>\n",
       "      <td>57</td>\n",
       "      <td>37</td>\n",
       "      <td>99</td>\n",
       "      <td>62</td>\n",
       "      <td>63.0</td>\n",
       "    </tr>\n",
       "    <tr>\n",
       "      <th>17</th>\n",
       "      <td>17</td>\n",
       "      <td>35</td>\n",
       "      <td>232</td>\n",
       "      <td>151</td>\n",
       "      <td>418</td>\n",
       "      <td>267</td>\n",
       "      <td>64.0</td>\n",
       "    </tr>\n",
       "    <tr>\n",
       "      <th>19</th>\n",
       "      <td>19</td>\n",
       "      <td>24</td>\n",
       "      <td>283</td>\n",
       "      <td>166</td>\n",
       "      <td>473</td>\n",
       "      <td>307</td>\n",
       "      <td>65.0</td>\n",
       "    </tr>\n",
       "    <tr>\n",
       "      <th>20</th>\n",
       "      <td>20</td>\n",
       "      <td>41</td>\n",
       "      <td>290</td>\n",
       "      <td>161</td>\n",
       "      <td>492</td>\n",
       "      <td>331</td>\n",
       "      <td>67.0</td>\n",
       "    </tr>\n",
       "    <tr>\n",
       "      <th>18</th>\n",
       "      <td>18</td>\n",
       "      <td>24</td>\n",
       "      <td>322</td>\n",
       "      <td>164</td>\n",
       "      <td>510</td>\n",
       "      <td>346</td>\n",
       "      <td>68.0</td>\n",
       "    </tr>\n",
       "    <tr>\n",
       "      <th>21</th>\n",
       "      <td>21</td>\n",
       "      <td>42</td>\n",
       "      <td>265</td>\n",
       "      <td>142</td>\n",
       "      <td>449</td>\n",
       "      <td>307</td>\n",
       "      <td>68.0</td>\n",
       "    </tr>\n",
       "    <tr>\n",
       "      <th>1</th>\n",
       "      <td>1</td>\n",
       "      <td>4</td>\n",
       "      <td>56</td>\n",
       "      <td>25</td>\n",
       "      <td>85</td>\n",
       "      <td>60</td>\n",
       "      <td>71.0</td>\n",
       "    </tr>\n",
       "  </tbody>\n",
       "</table>\n",
       "</div>"
      ],
      "text/plain": [
       "    Request hour  Cancelled  No Cars Available  Trip Completed  demand  \\\n",
       "11            11         15                 41             115     171   \n",
       "12            12         19                 44             121     184   \n",
       "14            14         11                 37              88     136   \n",
       "15            15         21                 48             102     171   \n",
       "16            16         22                 46              91     159   \n",
       "13            13         18                 53              89     160   \n",
       "23            23         10                 81             103     194   \n",
       "22            22         12                138             154     304   \n",
       "10            10         62                 65             116     243   \n",
       "7              7        169                 63             174     406   \n",
       "6              6        145                 86             167     398   \n",
       "5              5        176                 84             185     445   \n",
       "0              0          3                 56              40      99   \n",
       "9              9        175                 83             173     431   \n",
       "4              4         51                 74              78     203   \n",
       "3              3          2                 56              34      92   \n",
       "8              8        178                 90             155     423   \n",
       "2              2          5                 57              37      99   \n",
       "17            17         35                232             151     418   \n",
       "19            19         24                283             166     473   \n",
       "20            20         41                290             161     492   \n",
       "18            18         24                322             164     510   \n",
       "21            21         42                265             142     449   \n",
       "1              1          4                 56              25      85   \n",
       "\n",
       "    demand supply gap  demand supply gap%  \n",
       "11                 56                33.0  \n",
       "12                 63                34.0  \n",
       "14                 48                35.0  \n",
       "15                 69                40.0  \n",
       "16                 68                43.0  \n",
       "13                 71                44.0  \n",
       "23                 91                47.0  \n",
       "22                150                49.0  \n",
       "10                127                52.0  \n",
       "7                 232                57.0  \n",
       "6                 231                58.0  \n",
       "5                 260                58.0  \n",
       "0                  59                60.0  \n",
       "9                 258                60.0  \n",
       "4                 125                62.0  \n",
       "3                  58                63.0  \n",
       "8                 268                63.0  \n",
       "2                  62                63.0  \n",
       "17                267                64.0  \n",
       "19                307                65.0  \n",
       "20                331                67.0  \n",
       "18                346                68.0  \n",
       "21                307                68.0  \n",
       "1                  60                71.0  "
      ]
     },
     "execution_count": 21,
     "metadata": {},
     "output_type": "execute_result"
    }
   ],
   "source": [
    "df_demand_supply.sort_values('demand supply gap%')"
   ]
  },
  {
   "cell_type": "markdown",
   "metadata": {},
   "source": [
    "#### More 'Demand and supply gap' indicates that the demand is not met. Lets visualize this where uber is not able to meet demand."
   ]
  },
  {
   "cell_type": "code",
   "execution_count": 22,
   "metadata": {},
   "outputs": [
    {
     "data": {
      "image/png": "[encoded data removed]",
      "text/plain": [
       "<Figure size 432x288 with 1 Axes>"
      ]
     },
     "metadata": {},
     "output_type": "display_data"
    }
   ],
   "source": [
    "from matplotlib import cm\n",
    "\n",
    "y=np.array(df_demand_supply['demand supply gap%'])\n",
    "colors=cm.OrRd(y / float(max(y)))\n",
    "plt.bar(df_demand_supply['Request hour'],df_demand_supply['demand supply gap%'],color=colors)\n",
    "plt.xticks(df_demand_supply['Request hour'])\n",
    "plt.ylabel('% of demand supply gap')\n",
    "plt.xlabel('Request hour')\n",
    "plt.title('Demand supply gap on hourly basis');"
   ]
  },
  {
   "cell_type": "markdown",
   "metadata": {},
   "source": [
    "#### The high color intensity indicates the issue in meeting demand against supply.The uber is meeting demand only in the time period 11am - 4pm. In other time interval the demand is not met properly. There is huge chance for Uber to expand its business.\n",
    "#### Lets visualize demand supply gap  in city and airport seperately"
   ]
  },
  {
   "cell_type": "code",
   "execution_count": 24,
   "metadata": {},
   "outputs": [
    {
     "data": {
      "text/html": [
       "<div>\n",
       "<style scoped>\n",
       "    .dataframe tbody tr th:only-of-type {\n",
       "        vertical-align: middle;\n",
       "    }\n",
       "\n",
       "    .dataframe tbody tr th {\n",
       "        vertical-align: top;\n",
       "    }\n",
       "\n",
       "    .dataframe thead th {\n",
       "        text-align: right;\n",
       "    }\n",
       "</style>\n",
       "<table border=\"1\" class=\"dataframe\">\n",
       "  <thead>\n",
       "    <tr style=\"text-align: right;\">\n",
       "      <th></th>\n",
       "      <th>Pickup point</th>\n",
       "      <th>Request hour</th>\n",
       "      <th>Cancelled</th>\n",
       "      <th>No Cars Available</th>\n",
       "      <th>Trip Completed</th>\n",
       "      <th>demand</th>\n",
       "      <th>demand supply gap</th>\n",
       "      <th>demand supply gap%</th>\n",
       "    </tr>\n",
       "  </thead>\n",
       "  <tbody>\n",
       "    <tr>\n",
       "      <th>0</th>\n",
       "      <td>Airport</td>\n",
       "      <td>0</td>\n",
       "      <td>0.0</td>\n",
       "      <td>30.0</td>\n",
       "      <td>23.0</td>\n",
       "      <td>53.0</td>\n",
       "      <td>30.0</td>\n",
       "      <td>57.0</td>\n",
       "    </tr>\n",
       "    <tr>\n",
       "      <th>1</th>\n",
       "      <td>Airport</td>\n",
       "      <td>1</td>\n",
       "      <td>0.0</td>\n",
       "      <td>29.0</td>\n",
       "      <td>13.0</td>\n",
       "      <td>42.0</td>\n",
       "      <td>29.0</td>\n",
       "      <td>69.0</td>\n",
       "    </tr>\n",
       "    <tr>\n",
       "      <th>2</th>\n",
       "      <td>Airport</td>\n",
       "      <td>2</td>\n",
       "      <td>0.0</td>\n",
       "      <td>25.0</td>\n",
       "      <td>16.0</td>\n",
       "      <td>41.0</td>\n",
       "      <td>25.0</td>\n",
       "      <td>61.0</td>\n",
       "    </tr>\n",
       "    <tr>\n",
       "      <th>3</th>\n",
       "      <td>Airport</td>\n",
       "      <td>3</td>\n",
       "      <td>0.0</td>\n",
       "      <td>30.0</td>\n",
       "      <td>15.0</td>\n",
       "      <td>45.0</td>\n",
       "      <td>30.0</td>\n",
       "      <td>67.0</td>\n",
       "    </tr>\n",
       "    <tr>\n",
       "      <th>4</th>\n",
       "      <td>Airport</td>\n",
       "      <td>4</td>\n",
       "      <td>2.0</td>\n",
       "      <td>34.0</td>\n",
       "      <td>36.0</td>\n",
       "      <td>72.0</td>\n",
       "      <td>36.0</td>\n",
       "      <td>50.0</td>\n",
       "    </tr>\n",
       "  </tbody>\n",
       "</table>\n",
       "</div>"
      ],
      "text/plain": [
       "  Pickup point  Request hour  Cancelled  No Cars Available  Trip Completed  \\\n",
       "0      Airport             0        0.0               30.0            23.0   \n",
       "1      Airport             1        0.0               29.0            13.0   \n",
       "2      Airport             2        0.0               25.0            16.0   \n",
       "3      Airport             3        0.0               30.0            15.0   \n",
       "4      Airport             4        2.0               34.0            36.0   \n",
       "\n",
       "   demand  demand supply gap  demand supply gap%  \n",
       "0    53.0               30.0                57.0  \n",
       "1    42.0               29.0                69.0  \n",
       "2    41.0               25.0                61.0  \n",
       "3    45.0               30.0                67.0  \n",
       "4    72.0               36.0                50.0  "
      ]
     },
     "execution_count": 24,
     "metadata": {},
     "output_type": "execute_result"
    }
   ],
   "source": [
    "# Creating demand supply dataframe by including pickup point\n",
    "df_demand_supply_point = df_time.groupby(['Pickup point','Status','Request hour']).size().unstack('Status').rename_axis([None],axis=1).reset_index()\n",
    "df_demand_supply_point.fillna(0,inplace=True)\n",
    "df_demand_supply_point['demand'] = df_demand_supply_point['Cancelled'] + df_demand_supply_point['No Cars Available'] + df_demand_supply_point['Trip Completed']\n",
    "df_demand_supply_point['demand supply gap'] = df_demand_supply_point['demand'] - df_demand_supply_point['Trip Completed'] \n",
    "df_demand_supply_point['demand supply gap%'] = round((df_demand_supply_point['demand supply gap']/df_demand_supply_point['demand']) * 100)\n",
    "df_demand_supply_point.head()"
   ]
  },
  {
   "cell_type": "code",
   "execution_count": 26,
   "metadata": {},
   "outputs": [],
   "source": [
    "# demand supply table for airport and city seperately\n",
    "df_demand_supply_point_Airport = df_demand_supply_point[df_demand_supply_point['Pickup point'] == 'Airport']\n",
    "df_demand_supply_point_City = df_demand_supply_point[df_demand_supply_point['Pickup point'] == 'City']"
   ]
  },
  {
   "cell_type": "code",
   "execution_count": 27,
   "metadata": {},
   "outputs": [
    {
     "data": {
      "image/png": "[encoded data removed]",
      "text/plain": [
       "<Figure size 432x288 with 1 Axes>"
      ]
     },
     "metadata": {},
     "output_type": "display_data"
    }
   ],
   "source": [
    "y=np.array(df_demand_supply_point_Airport['demand supply gap%'])\n",
    "colors=cm.OrRd(y / float(max(y)))\n",
    "plt.bar(df_demand_supply_point_Airport['Request hour'],df_demand_supply_point_Airport['demand supply gap%'],color=colors)\n",
    "plt.xticks(df_demand_supply_point_Airport['Request hour'])\n",
    "plt.ylabel('% of demand supply gap')\n",
    "plt.xlabel('Request hour')\n",
    "plt.title('Demand supply gap on hourly basis at Airport');"
   ]
  },
  {
   "cell_type": "code",
   "execution_count": 28,
   "metadata": {},
   "outputs": [
    {
     "data": {
      "image/png": "[encoded data removed]",
      "text/plain": [
       "<Figure size 432x288 with 1 Axes>"
      ]
     },
     "metadata": {},
     "output_type": "display_data"
    }
   ],
   "source": [
    "y=np.array(df_demand_supply_point_City['demand supply gap%'])\n",
    "colors=cm.OrRd(y / float(max(y)))\n",
    "plt.bar(df_demand_supply_point_City['Request hour'],df_demand_supply_point_City['demand supply gap%'],color=colors)\n",
    "plt.xticks(df_demand_supply_point_City['Request hour'])\n",
    "plt.ylabel('% of demand supply gap')\n",
    "plt.xlabel('Request hour')\n",
    "plt.title('Demand supply gap on hourly basis at City');"
   ]
  },
  {
   "cell_type": "code",
   "execution_count": 29,
   "metadata": {},
   "outputs": [
    {
     "data": {
      "image/png": "[encoded data removed]",
      "text/plain": [
       "<Figure size 864x504 with 1 Axes>"
      ]
     },
     "metadata": {},
     "output_type": "display_data"
    }
   ],
   "source": [
    "df_demand_supply_point.pivot(\"Request hour\",\"Pickup point\",\"demand supply gap%\").plot(kind='bar',figsize=(12,7),title='Demand supply gap hourly(Airport vs City)').set_ylabel(\"% of Demand supply gap\");"
   ]
  },
  {
   "cell_type": "markdown",
   "metadata": {},
   "source": [
    "#### As observed earlier from demand supply gap is more in city in the morning 5am - 10am. Demand supply gap is more in airport in the evening time 5pm - 10pm. \n",
    "#### We have already seen the reason for this - There may be more outgoing flights in the morning and more incoming flights in the evening.\n",
    "#### In night from 12am- 5am The demand supply gap is more in both airport and city, as it is generally the sleeping time for most of the drivers."
   ]
  },
  {
   "cell_type": "markdown",
   "metadata": {},
   "source": [
    "# Conclusion:\n",
    "\n",
    "#### The demand for trips to  airport is more in morning which tells that there may be more outgoing flights.\n",
    "#### The demand for trips to  city from airport is more in evening which tells that there may be more incoming flights.\n",
    "\n",
    "#### The demand supply gap is more in city in the morning as the drivers are cancelling the requests to Airport. This may be due to reason that the demand in airport is less in the afternoon which makes it difficult to get return trip for those who take trip to airport. So most of the drivers dont want to go to airport in the morning and cancelling the ride.\n",
    "\n",
    "#### The demand supply gap is more in Airport in the evening as there are no cabs available at the airport in the evening. The demand to airport from the city is less before evening so there will not be more cabs availble at airport in the evening to meet the heavy demand coming in the evening.\n",
    "\n",
    "# Ways to resolve demand supply gap:\n",
    "\n",
    "#### Most of the time uber is not able to meet 60 percent of the demand. It has to expand the business by increasing the number of cabs.\n",
    "\n",
    "#### Uber should make sure that existing drivers should not cancel the requests.The 'Non availablity of cars' in the city is also more in the morning. The drivers should be encoraged to start their trips early in the morning. The drivers who are going to airport should be given more incentives and other freebies so that they will not cancel the rides.\n",
    "\n",
    "#### The requests that Uber gets from places near to Airport should be given to the drivers at airport instead of drivers with in city.\n",
    "\n",
    "#### The Uber should introduce a facility to book trips in advance. When users pre book trips, these can be allocated to drivers at Airport who will not get return trip during less demand time.\n",
    "\n",
    "#### In the evening where demand at airport is more, Uber can keep more XUV's at airport with sharing facility and the cabs that are going to airport in the evening should be of sharing mode, Which can accomodate more passengers while returning from Airport."
   ]
  },
  {
   "cell_type": "code",
   "execution_count": null,
   "metadata": {},
   "outputs": [],
   "source": []
  }
 ],
 "metadata": {
  "kernelspec": {
   "display_name": "Python 3",
   "language": "python",
   "name": "python3"
  },
  "language_info": {
   "codemirror_mode": {
    "name": "ipython",
    "version": 3
   },
   "file_extension": ".py",
   "mimetype": "text/x-python",
   "name": "python",
   "nbconvert_exporter": "python",
   "pygments_lexer": "ipython3",
   "version": "3.6.5"
  }
 },
 "nbformat": 4,
 "nbformat_minor": 2
}
